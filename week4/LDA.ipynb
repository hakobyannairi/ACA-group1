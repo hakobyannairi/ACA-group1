{
 "cells": [
  {
   "cell_type": "code",
   "execution_count": null,
   "metadata": {},
   "outputs": [],
   "source": [
    "class LinearDA:\n",
    "    def __init__(self):\n",
    "        pass\n",
    "    \n",
    "    def get_stats(self):\n",
    "#         return mean, cov_mtrx, class_proba\n",
    "        pass\n",
    "        \n",
    "    def ldf(self, x, mean, cov_mtrx, class_proba):\n",
    "#         return y_proba\n",
    "    \n",
    "    def fit(self, X_train, y_train):\n",
    "        pass\n",
    "    \n",
    "    def predict(self, X_test, eps=0):\n",
    "        pass\n",
    "#         return y_pre\n",
    "    \n",
    "    def predict_proba(self, X_test):\n",
    "        ldf(X_test)\n",
    "        \n",
    "    \n",
    "    def score(self, X_test, y_test):\n",
    "        pass\n",
    "#         return accuracy"
   ]
  },
  {
   "cell_type": "code",
   "execution_count": null,
   "metadata": {},
   "outputs": [],
   "source": [
    "class QuadraticDA:\n",
    "    def __init__(self):\n",
    "        pass"
   ]
  }
 ],
 "metadata": {
  "kernelspec": {
   "display_name": "Python 3",
   "language": "python",
   "name": "python3"
  },
  "language_info": {
   "codemirror_mode": {
    "name": "ipython",
    "version": 3
   },
   "file_extension": ".py",
   "mimetype": "text/x-python",
   "name": "python",
   "nbconvert_exporter": "python",
   "pygments_lexer": "ipython3",
   "version": "3.8.3"
  }
 },
 "nbformat": 4,
 "nbformat_minor": 4
}
