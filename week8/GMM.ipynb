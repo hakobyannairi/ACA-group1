{
 "cells": [
  {
   "cell_type": "code",
   "execution_count": null,
   "metadata": {},
   "outputs": [],
   "source": [
    "class GMM:\n",
    "    def __init__(self, k=4, init='random', max_iter=300):\n",
    "        self.k = k\n",
    "        self.max_iter = max_iter\n",
    "    \n",
    "    def init_params(self, X):\n",
    "        if self.init == 'random':\n",
    "            pass # divide X to k parts, calculate params for each part\n",
    "        if self.init == 'kmeans':\n",
    "            pass # run kmeans on X, find means, calculate covariances and proportions\n",
    "        if self.init == 'random_means++':\n",
    "            pass # random points (means) by k-means++, calculate covariances and proportions\n",
    "        if self.init == 'random_means':\n",
    "            pass # select random means from X, fix covariance\n",
    "        if self.init == 'random_means_covariances':\n",
    "            pass # select random means and covariances\n",
    "        \n",
    "    \n",
    "    def fit(self, X):\n",
    "        self.means, self.covs, self.proportions = self.init_params(X)\n",
    "        for _ in range(self.max_iter):\n",
    "            gamma_mtrx = self.expectation(X, self.means, self.covs, self.proportions)\n",
    "            means, covs, proportions = self.maximization(X, gamma_mtrx)\n",
    "            if (means == self.means).all() and (covs == self.covs).all():\n",
    "                break\n",
    "            self.means = means\n",
    "            self.covs = covs\n",
    "            \n",
    "    def expectation(self, X, ...):\n",
    "        return \n",
    "        \n",
    "    def maximization(self, X, ...):\n",
    "        return     \n",
    "\n",
    "    def predict_proba(self, X):\n",
    "        return "
   ]
  }
 ],
 "metadata": {
  "kernelspec": {
   "display_name": "Python 3",
   "language": "python",
   "name": "python3"
  },
  "language_info": {
   "codemirror_mode": {
    "name": "ipython",
    "version": 3
   },
   "file_extension": ".py",
   "mimetype": "text/x-python",
   "name": "python",
   "nbconvert_exporter": "python",
   "pygments_lexer": "ipython3",
   "version": "3.8.3"
  }
 },
 "nbformat": 4,
 "nbformat_minor": 4
}
